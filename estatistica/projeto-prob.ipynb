{
 "cells": [
  {
   "cell_type": "code",
   "execution_count": 1,
   "id": "4539eebe",
   "metadata": {},
   "outputs": [],
   "source": [
    "import pandas as pd\n",
    "import numpy as np"
   ]
  },
  {
   "cell_type": "code",
   "execution_count": 2,
   "id": "0dff50a6",
   "metadata": {},
   "outputs": [
    {
     "data": {
      "text/html": [
       "<div>\n",
       "<style scoped>\n",
       "    .dataframe tbody tr th:only-of-type {\n",
       "        vertical-align: middle;\n",
       "    }\n",
       "\n",
       "    .dataframe tbody tr th {\n",
       "        vertical-align: top;\n",
       "    }\n",
       "\n",
       "    .dataframe thead th {\n",
       "        text-align: right;\n",
       "    }\n",
       "</style>\n",
       "<table border=\"1\" class=\"dataframe\">\n",
       "  <thead>\n",
       "    <tr style=\"text-align: right;\">\n",
       "      <th></th>\n",
       "      <th>UF</th>\n",
       "      <th>Sexo</th>\n",
       "      <th>Idade</th>\n",
       "      <th>Cor</th>\n",
       "      <th>Anos de Estudo</th>\n",
       "      <th>Renda</th>\n",
       "      <th>Altura</th>\n",
       "    </tr>\n",
       "  </thead>\n",
       "  <tbody>\n",
       "    <tr>\n",
       "      <th>0</th>\n",
       "      <td>11</td>\n",
       "      <td>0</td>\n",
       "      <td>23</td>\n",
       "      <td>8</td>\n",
       "      <td>12</td>\n",
       "      <td>800</td>\n",
       "      <td>1.603808</td>\n",
       "    </tr>\n",
       "    <tr>\n",
       "      <th>1</th>\n",
       "      <td>11</td>\n",
       "      <td>1</td>\n",
       "      <td>23</td>\n",
       "      <td>2</td>\n",
       "      <td>12</td>\n",
       "      <td>1150</td>\n",
       "      <td>1.739790</td>\n",
       "    </tr>\n",
       "    <tr>\n",
       "      <th>2</th>\n",
       "      <td>11</td>\n",
       "      <td>1</td>\n",
       "      <td>35</td>\n",
       "      <td>8</td>\n",
       "      <td>15</td>\n",
       "      <td>880</td>\n",
       "      <td>1.760444</td>\n",
       "    </tr>\n",
       "    <tr>\n",
       "      <th>3</th>\n",
       "      <td>11</td>\n",
       "      <td>0</td>\n",
       "      <td>46</td>\n",
       "      <td>2</td>\n",
       "      <td>6</td>\n",
       "      <td>3500</td>\n",
       "      <td>1.783158</td>\n",
       "    </tr>\n",
       "    <tr>\n",
       "      <th>4</th>\n",
       "      <td>11</td>\n",
       "      <td>1</td>\n",
       "      <td>47</td>\n",
       "      <td>8</td>\n",
       "      <td>9</td>\n",
       "      <td>150</td>\n",
       "      <td>1.690631</td>\n",
       "    </tr>\n",
       "  </tbody>\n",
       "</table>\n",
       "</div>"
      ],
      "text/plain": [
       "   UF  Sexo  Idade  Cor  Anos de Estudo  Renda    Altura\n",
       "0  11     0     23    8              12    800  1.603808\n",
       "1  11     1     23    2              12   1150  1.739790\n",
       "2  11     1     35    8              15    880  1.760444\n",
       "3  11     0     46    2               6   3500  1.783158\n",
       "4  11     1     47    8               9    150  1.690631"
      ]
     },
     "execution_count": 2,
     "metadata": {},
     "output_type": "execute_result"
    }
   ],
   "source": [
    "dados = pd.read_csv('dados.csv')\n",
    "dados.head()"
   ]
  },
  {
   "cell_type": "markdown",
   "id": "165fbf2a",
   "metadata": {},
   "source": [
    "### Problema A:\n",
    "Avaliando nosso dataset é possível verificar que a **proporção de homens** como chefes de domicílios é de quase **70%**. Precisamos **selecionar aleatoriamente grupos de 10 indivíduos** para verificar as diferenças entre os rendimentos em cada grupo. Qual a **probabilidade de selecionamos um grupo que apresente a mesma proporção da população**, ou seja, selecionarmos um grupo que seja **composto por 7 homens e 3 mulheres**?\n",
    "\n",
    "\n",
    ">*Como tarefa extra, verifique a real proporção de homens e mulheres em nosso dataset*\n",
    "\n",
    ">*verifique que tipo de distribuição de probabilidade se encaixa neste experimento*"
   ]
  },
  {
   "cell_type": "code",
   "execution_count": 3,
   "id": "147c3386",
   "metadata": {},
   "outputs": [
    {
     "data": {
      "text/plain": [
       "Sexo\n",
       "0    0.692998\n",
       "1    0.307002\n",
       "Name: proportion, dtype: float64"
      ]
     },
     "execution_count": 3,
     "metadata": {},
     "output_type": "execute_result"
    }
   ],
   "source": [
    "dados.Sexo.value_counts(normalize=True)"
   ]
  },
  {
   "cell_type": "markdown",
   "id": "fe0ab896",
   "metadata": {},
   "source": [
    "Esse é um problema de distribuição binomial. Vemos claramente, que o temos apenas duas opções é homem ou mulher."
   ]
  },
  {
   "cell_type": "code",
   "execution_count": 4,
   "id": "04a47926",
   "metadata": {},
   "outputs": [
    {
     "data": {
      "text/plain": [
       "0.26682793200000005"
      ]
     },
     "execution_count": 4,
     "metadata": {},
     "output_type": "execute_result"
    }
   ],
   "source": [
    "from scipy.stats import binom\n",
    "p = 0.7\n",
    "n = 10\n",
    "k = 7\n",
    "\n",
    "prob = binom.pmf(k,n,p)\n",
    "prob"
   ]
  },
  {
   "cell_type": "markdown",
   "id": "9a56f85c",
   "metadata": {},
   "source": [
    "### Problema B\n",
    "Ainda sobre a questão anterior, **quantos grupos de 10 indivíduos** nós precisaríamos selecionar, de forma aleatória, para conseguir **100 grupos compostos por 7 homens e 3 mulheres**?"
   ]
  },
  {
   "cell_type": "code",
   "execution_count": 5,
   "id": "e893870e",
   "metadata": {},
   "outputs": [
    {
     "data": {
      "text/plain": [
       "375"
      ]
     },
     "execution_count": 5,
     "metadata": {},
     "output_type": "execute_result"
    }
   ],
   "source": [
    "n = 100 / prob\n",
    "int(n.round())"
   ]
  },
  {
   "cell_type": "markdown",
   "id": "b204774d",
   "metadata": {},
   "source": [
    "### Problema C\n",
    "Um cliente nos encomendou um estudo para avaliar o **rendimento dos chefes de domicílio no Brasil**. Para isso precisamos realizar uma nova coleta de dados, isto é, uma nova pesquisa de campo. Após reunião com o cliente foi possível elencar o seguinte conjunto de informações:\n",
    "\n",
    "> A. O resultado da pesquisa precisa estar pronto em **2 meses**;\n",
    "\n",
    "> B. Teremos somente **R$\\$$ 150.000,00** de recursos para realização da pesquisa de campo; e\n",
    "    \n",
    "> C. Seria interessante uma **margem de erro não superior a 10% em relação a média estimada**.\n",
    "\n",
    "Em nossa experiência com estudos deste tipo, sabemos que o **custo médio por indivíduo entrevistado fica em torno de R$\\$$ 100,00**. Com este conjunto de fatos avalie e obtenha o seguinte conjunto de informações para passar ao cliente:\n",
    "\n",
    "\n",
    "> 1. Para obter uma estimativa para os parâmetros da população (renda dos chefes de domicílio no Brasil), realize uma amostragem aleatória simples em nosso conjunto de dados. Essa amostra deve conter 200 elementos (utilize random_state = 101 para garantir que o mesmo experimento posso ser realizado novamente). Obtenha a média e o desvio-padrão dessa amostra.\n",
    "    \n",
    "> 2. Para a **margem de erro** especificada pelo cliente obtenha os **tamanhos de amostra** necessários para garantir os **níveis de confiança de 90%, 95% e 99%**.\n",
    "    \n",
    "> 3. Obtenha o **custo da pesquisa** para os três níveis de confiança.\n",
    "    \n",
    "> 4. Para o maior nível de confiança viável (dentro do orçamento disponível), obtenha um **intervalo de confiança para a média da população**.\n",
    "    \n",
    "> 5. Assumindo o **nível de confiança escolhido no item anterior**, qual **margem de erro** pode ser considerada utilizando todo o recurso disponibilizado pelo cliente?\n",
    "    \n",
    "> 6. Assumindo um **nível de confiança de 95%**, **quanto a pesquisa custaria ao cliente** caso fosse considerada uma **margem de erro de apenas 5%** em relação a média estimada?\n"
   ]
  },
  {
   "cell_type": "markdown",
   "id": "7a4ce51d",
   "metadata": {},
   "source": [
    "#### Item 1\n",
    "***"
   ]
  },
  {
   "cell_type": "code",
   "execution_count": 6,
   "id": "916233e1",
   "metadata": {},
   "outputs": [],
   "source": [
    "#Prob 1\n",
    "amostra = dados.Renda.sample(n=200, random_state = 101)\n",
    "media_amostra = amostra.mean()\n",
    "dp_amostra = amostra.std()\n",
    "custo_entrevista = 100"
   ]
  },
  {
   "cell_type": "markdown",
   "id": "732ae541",
   "metadata": {},
   "source": [
    "#### Item 2\n",
    "***"
   ]
  },
  {
   "cell_type": "code",
   "execution_count": 7,
   "id": "f9f6f814",
   "metadata": {},
   "outputs": [
    {
     "data": {
      "text/plain": [
       "691"
      ]
     },
     "execution_count": 7,
     "metadata": {},
     "output_type": "execute_result"
    }
   ],
   "source": [
    "#Prob 2\n",
    "#Para 90%\n",
    "from scipy.stats import norm \n",
    "z = norm.ppf(0.95)\n",
    "e = 0.1 * media_amostra\n",
    "n = (z * (dp_amostra/e))**2\n",
    "int(n.round())"
   ]
  },
  {
   "cell_type": "code",
   "execution_count": 8,
   "id": "fab3639a",
   "metadata": {},
   "outputs": [
    {
     "data": {
      "text/plain": [
       "982"
      ]
     },
     "execution_count": 8,
     "metadata": {},
     "output_type": "execute_result"
    }
   ],
   "source": [
    "#Para 95%\n",
    "z2 = norm.ppf(0.975)\n",
    "e = 0.1 * media_amostra\n",
    "n2 = (z2 * (dp_amostra/e))**2\n",
    "int(n2.round())"
   ]
  },
  {
   "cell_type": "code",
   "execution_count": 9,
   "id": "a5002398",
   "metadata": {},
   "outputs": [
    {
     "data": {
      "text/plain": [
       "1695"
      ]
     },
     "execution_count": 9,
     "metadata": {},
     "output_type": "execute_result"
    }
   ],
   "source": [
    "#Para 99%\n",
    "z3 = norm.ppf(0.995)\n",
    "e = 0.1 * media_amostra\n",
    "n3 = (z3 * (dp_amostra/e))**2\n",
    "int(n3.round())"
   ]
  },
  {
   "cell_type": "markdown",
   "id": "21c457ef",
   "metadata": {},
   "source": [
    "#### Item 3 \n",
    "***"
   ]
  },
  {
   "cell_type": "code",
   "execution_count": 10,
   "id": "60532bd0",
   "metadata": {},
   "outputs": [
    {
     "name": "stdout",
     "output_type": "stream",
     "text": [
      "Pesquisa 1:69137\n",
      "Pesquisa 2:98164\n",
      "Pesquisa 3:169546\n"
     ]
    }
   ],
   "source": [
    "print(f\"Pesquisa 1:{round(n*100)}\\nPesquisa 2:{round(n2*100)}\\nPesquisa 3:{round(n3*100)}\")"
   ]
  },
  {
   "cell_type": "markdown",
   "id": "f19ccded",
   "metadata": {},
   "source": [
    "#### Item 4\n",
    "***"
   ]
  },
  {
   "cell_type": "code",
   "execution_count": 29,
   "id": "a1502413",
   "metadata": {},
   "outputs": [
    {
     "data": {
      "text/plain": [
       "(1767.7845, 2160.6255)"
      ]
     },
     "execution_count": 29,
     "metadata": {},
     "output_type": "execute_result"
    }
   ],
   "source": [
    "confidence_level = 0.95\n",
    "intervalo = norm.interval(confidence_level, loc=media_amostra, scale=dp_amostra / np.sqrt(n2))\n",
    "intervalo"
   ]
  },
  {
   "cell_type": "markdown",
   "id": "864a5d7c",
   "metadata": {},
   "source": [
    "#### Item 5\n",
    "***"
   ]
  },
  {
   "cell_type": "code",
   "execution_count": 11,
   "id": "bdeca3ee",
   "metadata": {},
   "outputs": [
    {
     "data": {
      "text/plain": [
       "1500.0"
      ]
     },
     "execution_count": 11,
     "metadata": {},
     "output_type": "execute_result"
    }
   ],
   "source": [
    "n_95 = (150000)/(100)\n",
    "n_95"
   ]
  },
  {
   "cell_type": "code",
   "execution_count": 12,
   "id": "ca06b644",
   "metadata": {},
   "outputs": [
    {
     "data": {
      "text/plain": [
       "158.89721122673703"
      ]
     },
     "execution_count": 12,
     "metadata": {},
     "output_type": "execute_result"
    }
   ],
   "source": [
    "e = z2 * (dp_amostra/(np.sqrt(n_95)))\n",
    "e"
   ]
  },
  {
   "cell_type": "code",
   "execution_count": 13,
   "id": "806cf8a9",
   "metadata": {},
   "outputs": [
    {
     "data": {
      "text/plain": [
       "0.08089644982409526"
      ]
     },
     "execution_count": 13,
     "metadata": {},
     "output_type": "execute_result"
    }
   ],
   "source": [
    "e_pecentual = e/media_amostra\n",
    "e_pecentual"
   ]
  },
  {
   "cell_type": "markdown",
   "id": "d2607b3b",
   "metadata": {},
   "source": [
    "#### Item 6\n",
    "***"
   ]
  },
  {
   "cell_type": "code",
   "execution_count": 18,
   "id": "717345a3",
   "metadata": {},
   "outputs": [
    {
     "name": "stdout",
     "output_type": "stream",
     "text": [
      "O custo da pesquisa seria de R$392,654.14.\n"
     ]
    }
   ],
   "source": [
    "z4 = norm.ppf(0.975)\n",
    "e4 = 0.05 * media_amostra\n",
    "n4 = (z4 * (dp_amostra/e4))**2\n",
    "print('O custo da pesquisa seria de R${:,.2f}.'.format(n4*100))\n"
   ]
  }
 ],
 "metadata": {
  "kernelspec": {
   "display_name": "Python 3 (ipykernel)",
   "language": "python",
   "name": "python3"
  },
  "language_info": {
   "codemirror_mode": {
    "name": "ipython",
    "version": 3
   },
   "file_extension": ".py",
   "mimetype": "text/x-python",
   "name": "python",
   "nbconvert_exporter": "python",
   "pygments_lexer": "ipython3",
   "version": "3.11.3"
  }
 },
 "nbformat": 4,
 "nbformat_minor": 5
}
